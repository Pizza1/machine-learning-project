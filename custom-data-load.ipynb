{
 "cells": [
  {
   "cell_type": "code",
   "execution_count": 1,
   "id": "0c0f471f-0e7f-4c8c-8737-824eb5d139f5",
   "metadata": {},
   "outputs": [
    {
     "name": "stdout",
     "output_type": "stream",
     "text": [
      "Collecting fiftyone\n",
      "  Downloading fiftyone-0.14.0-py3-none-any.whl (1.2 MB)\n",
      "     |████████████████████████████████| 1.2 MB 8.3 MB/s            \n",
      "\u001b[?25hRequirement already satisfied: packaging in /opt/conda/lib/python3.7/site-packages (from fiftyone) (21.0)\n",
      "Collecting mongoengine==0.20.0\n",
      "  Downloading mongoengine-0.20.0-py3-none-any.whl (106 kB)\n",
      "     |████████████████████████████████| 106 kB 75.2 MB/s            \n",
      "\u001b[?25hCollecting fiftyone-db<0.4,>=0.3\n",
      "  Downloading fiftyone_db-0.3.0-py3-none-manylinux1_x86_64.whl (29.2 MB)\n",
      "     |████████████████████████████████| 29.2 MB 3.3 MB/s            \n",
      "\u001b[?25hRequirement already satisfied: Jinja2 in /opt/conda/lib/python3.7/site-packages (from fiftyone) (2.11.3)\n",
      "Collecting pprintpp\n",
      "  Downloading pprintpp-0.4.0-py2.py3-none-any.whl (16 kB)\n",
      "Collecting xmltodict\n",
      "  Downloading xmltodict-0.12.0-py2.py3-none-any.whl (9.2 kB)\n",
      "Requirement already satisfied: psutil in /opt/conda/lib/python3.7/site-packages (from fiftyone) (5.8.0)\n",
      "Requirement already satisfied: scikit-learn in /opt/conda/lib/python3.7/site-packages (from fiftyone) (1.0.1)\n",
      "Requirement already satisfied: setuptools in /opt/conda/lib/python3.7/site-packages (from fiftyone) (58.5.2)\n",
      "Collecting Deprecated\n",
      "  Downloading Deprecated-1.2.13-py2.py3-none-any.whl (9.6 kB)\n",
      "Collecting voxel51-eta<0.6,>=0.5.3\n",
      "  Downloading voxel51_eta-0.5.3-py2.py3-none-any.whl (557 kB)\n",
      "     |████████████████████████████████| 557 kB 61.6 MB/s            \n",
      "\u001b[?25hRequirement already satisfied: pytz in /opt/conda/lib/python3.7/site-packages (from fiftyone) (2021.3)\n",
      "Collecting universal-analytics-python3<2,>=1.0.1\n",
      "  Downloading universal_analytics_python3-1.1.1-py3-none-any.whl (10 kB)\n",
      "Requirement already satisfied: matplotlib in /opt/conda/lib/python3.7/site-packages (from fiftyone) (3.4.3)\n",
      "Requirement already satisfied: pymongo<4,>=3.11 in /opt/conda/lib/python3.7/site-packages (from fiftyone) (3.12.1)\n",
      "Requirement already satisfied: future in /opt/conda/lib/python3.7/site-packages (from fiftyone) (0.18.2)\n",
      "Requirement already satisfied: opencv-python-headless in /home/jupyter/.local/lib/python3.7/site-packages (from fiftyone) (4.5.4.58)\n",
      "Requirement already satisfied: tornado<7,>=5.1.1 in /opt/conda/lib/python3.7/site-packages (from fiftyone) (6.1)\n",
      "Requirement already satisfied: numpy in /opt/conda/lib/python3.7/site-packages (from fiftyone) (1.19.5)\n",
      "Collecting plotly<5,>=4.14\n",
      "  Downloading plotly-4.14.3-py2.py3-none-any.whl (13.2 MB)\n",
      "     |████████████████████████████████| 13.2 MB 59.3 MB/s            \n",
      "\u001b[?25hRequirement already satisfied: scikit-image in /opt/conda/lib/python3.7/site-packages (from fiftyone) (0.18.3)\n",
      "Collecting fiftyone-brain<0.8,>=0.7\n",
      "  Downloading fiftyone_brain-0.7.1-cp37-cp37m-manylinux1_x86_64.whl (631 kB)\n",
      "     |████████████████████████████████| 631 kB 28.9 MB/s            \n",
      "\u001b[?25hCollecting kaleido\n",
      "  Downloading kaleido-0.2.1-py2.py3-none-manylinux1_x86_64.whl (79.9 MB)\n",
      "     |████████████████████████████████| 79.9 MB 56.6 MB/s            \n",
      "\u001b[?25hCollecting boto3\n",
      "  Downloading boto3-1.20.5-py3-none-any.whl (131 kB)\n",
      "     |████████████████████████████████| 131 kB 45.6 MB/s            \n",
      "\u001b[?25hCollecting eventlet\n",
      "  Downloading eventlet-0.32.0-py2.py3-none-any.whl (225 kB)\n",
      "     |████████████████████████████████| 225 kB 51.0 MB/s            \n",
      "\u001b[?25hRequirement already satisfied: argcomplete in /opt/conda/lib/python3.7/site-packages (from fiftyone) (1.12.3)\n",
      "Requirement already satisfied: PyYAML in /home/jupyter/.local/lib/python3.7/site-packages (from fiftyone) (5.4.1)\n",
      "Requirement already satisfied: retrying in /opt/conda/lib/python3.7/site-packages (from fiftyone) (1.3.3)\n",
      "Collecting motor<3,>=2.3\n",
      "  Downloading motor-2.5.1-py3-none-any.whl (55 kB)\n",
      "     |████████████████████████████████| 55 kB 5.2 MB/s             \n",
      "\u001b[?25hRequirement already satisfied: pandas in /opt/conda/lib/python3.7/site-packages (from fiftyone) (1.3.4)\n",
      "Requirement already satisfied: Pillow>=6.2 in /opt/conda/lib/python3.7/site-packages (from fiftyone) (8.3.2)\n",
      "Requirement already satisfied: tabulate in /home/jupyter/.local/lib/python3.7/site-packages (from fiftyone) (0.8.9)\n",
      "Requirement already satisfied: scipy>=1.2.0 in /opt/conda/lib/python3.7/site-packages (from fiftyone-brain<0.8,>=0.7->fiftyone) (1.7.1)\n",
      "Requirement already satisfied: six in /opt/conda/lib/python3.7/site-packages (from plotly<5,>=4.14->fiftyone) (1.16.0)\n",
      "Collecting httpx>=0.10.0\n",
      "  Downloading httpx-0.20.0-py3-none-any.whl (82 kB)\n",
      "     |████████████████████████████████| 82 kB 1.2 MB/s             \n",
      "\u001b[?25hCollecting patool\n",
      "  Downloading patool-1.12-py2.py3-none-any.whl (77 kB)\n",
      "     |████████████████████████████████| 77 kB 9.9 MB/s             \n",
      "\u001b[?25hCollecting glob2\n",
      "  Downloading glob2-0.7.tar.gz (10 kB)\n",
      "  Preparing metadata (setup.py) ... \u001b[?25ldone\n",
      "\u001b[?25hRequirement already satisfied: importlib-metadata in /opt/conda/lib/python3.7/site-packages (from voxel51-eta<0.6,>=0.5.3->fiftyone) (4.8.1)\n",
      "Collecting ndjson\n",
      "  Downloading ndjson-0.3.1-py2.py3-none-any.whl (5.3 kB)\n",
      "Collecting tzlocal\n",
      "  Downloading tzlocal-4.1-py3-none-any.whl (19 kB)\n",
      "Requirement already satisfied: requests in /opt/conda/lib/python3.7/site-packages (from voxel51-eta<0.6,>=0.5.3->fiftyone) (2.25.1)\n",
      "Requirement already satisfied: dill in /opt/conda/lib/python3.7/site-packages (from voxel51-eta<0.6,>=0.5.3->fiftyone) (0.3.4)\n",
      "Collecting sortedcontainers\n",
      "  Downloading sortedcontainers-2.4.0-py2.py3-none-any.whl (29 kB)\n",
      "Requirement already satisfied: python-dateutil in /opt/conda/lib/python3.7/site-packages (from voxel51-eta<0.6,>=0.5.3->fiftyone) (2.8.2)\n",
      "Collecting jmespath<1.0.0,>=0.7.1\n",
      "  Downloading jmespath-0.10.0-py2.py3-none-any.whl (24 kB)\n",
      "Collecting botocore<1.24.0,>=1.23.5\n",
      "  Downloading botocore-1.23.5-py3-none-any.whl (8.1 MB)\n",
      "     |████████████████████████████████| 8.1 MB 43.3 MB/s            \n",
      "\u001b[?25hCollecting s3transfer<0.6.0,>=0.5.0\n",
      "  Downloading s3transfer-0.5.0-py3-none-any.whl (79 kB)\n",
      "     |████████████████████████████████| 79 kB 12.2 MB/s            \n",
      "\u001b[?25hRequirement already satisfied: wrapt<2,>=1.10 in /opt/conda/lib/python3.7/site-packages (from Deprecated->fiftyone) (1.13.3)\n",
      "Collecting dnspython>=1.15.0\n",
      "  Downloading dnspython-2.1.0-py3-none-any.whl (241 kB)\n",
      "     |████████████████████████████████| 241 kB 59.6 MB/s            \n",
      "\u001b[?25hRequirement already satisfied: greenlet>=0.3 in /opt/conda/lib/python3.7/site-packages (from eventlet->fiftyone) (1.1.2)\n",
      "Requirement already satisfied: MarkupSafe>=0.23 in /opt/conda/lib/python3.7/site-packages (from Jinja2->fiftyone) (1.1.1)\n",
      "Requirement already satisfied: pyparsing>=2.2.1 in /opt/conda/lib/python3.7/site-packages (from matplotlib->fiftyone) (3.0.4)\n",
      "Requirement already satisfied: kiwisolver>=1.0.1 in /opt/conda/lib/python3.7/site-packages (from matplotlib->fiftyone) (1.3.2)\n",
      "Requirement already satisfied: cycler>=0.10 in /opt/conda/lib/python3.7/site-packages (from matplotlib->fiftyone) (0.11.0)\n",
      "Requirement already satisfied: imageio>=2.3.0 in /opt/conda/lib/python3.7/site-packages (from scikit-image->fiftyone) (2.10.1)\n",
      "Requirement already satisfied: networkx>=2.0 in /opt/conda/lib/python3.7/site-packages (from scikit-image->fiftyone) (2.6.3)\n",
      "Requirement already satisfied: PyWavelets>=1.1.1 in /opt/conda/lib/python3.7/site-packages (from scikit-image->fiftyone) (1.1.1)\n",
      "Requirement already satisfied: tifffile>=2019.7.26 in /opt/conda/lib/python3.7/site-packages (from scikit-image->fiftyone) (2021.11.2)\n",
      "Requirement already satisfied: joblib>=0.11 in /opt/conda/lib/python3.7/site-packages (from scikit-learn->fiftyone) (1.1.0)\n",
      "Requirement already satisfied: threadpoolctl>=2.0.0 in /opt/conda/lib/python3.7/site-packages (from scikit-learn->fiftyone) (3.0.0)\n",
      "Requirement already satisfied: urllib3<1.27,>=1.25.4 in /opt/conda/lib/python3.7/site-packages (from botocore<1.24.0,>=1.23.5->boto3->fiftyone) (1.26.7)\n",
      "Requirement already satisfied: certifi in /opt/conda/lib/python3.7/site-packages (from httpx>=0.10.0->universal-analytics-python3<2,>=1.0.1->fiftyone) (2021.10.8)\n",
      "Collecting rfc3986[idna2008]<2,>=1.3\n",
      "  Downloading rfc3986-1.5.0-py2.py3-none-any.whl (31 kB)\n",
      "Requirement already satisfied: sniffio in /opt/conda/lib/python3.7/site-packages (from httpx>=0.10.0->universal-analytics-python3<2,>=1.0.1->fiftyone) (1.2.0)\n",
      "Collecting charset-normalizer\n",
      "  Downloading charset_normalizer-2.0.7-py3-none-any.whl (38 kB)\n",
      "Collecting httpcore<0.14.0,>=0.13.3\n",
      "  Downloading httpcore-0.13.7-py3-none-any.whl (58 kB)\n",
      "     |████████████████████████████████| 58 kB 6.9 MB/s             \n",
      "\u001b[?25hRequirement already satisfied: zipp>=0.5 in /opt/conda/lib/python3.7/site-packages (from importlib-metadata->voxel51-eta<0.6,>=0.5.3->fiftyone) (3.6.0)\n",
      "Requirement already satisfied: typing-extensions>=3.6.4 in /opt/conda/lib/python3.7/site-packages (from importlib-metadata->voxel51-eta<0.6,>=0.5.3->fiftyone) (3.10.0.2)\n",
      "Requirement already satisfied: chardet<5,>=3.0.2 in /opt/conda/lib/python3.7/site-packages (from requests->voxel51-eta<0.6,>=0.5.3->fiftyone) (4.0.0)\n",
      "Requirement already satisfied: idna<3,>=2.5 in /opt/conda/lib/python3.7/site-packages (from requests->voxel51-eta<0.6,>=0.5.3->fiftyone) (2.10)\n",
      "Collecting pytz-deprecation-shim\n",
      "  Downloading pytz_deprecation_shim-0.1.0.post0-py2.py3-none-any.whl (15 kB)\n",
      "Collecting backports.zoneinfo\n",
      "  Downloading backports.zoneinfo-0.2.1-cp37-cp37m-manylinux1_x86_64.whl (70 kB)\n",
      "     |████████████████████████████████| 70 kB 13.1 MB/s            \n",
      "\u001b[?25hRequirement already satisfied: anyio==3.* in /opt/conda/lib/python3.7/site-packages (from httpcore<0.14.0,>=0.13.3->httpx>=0.10.0->universal-analytics-python3<2,>=1.0.1->fiftyone) (3.3.4)\n",
      "Collecting h11<0.13,>=0.11\n",
      "  Downloading h11-0.12.0-py3-none-any.whl (54 kB)\n",
      "     |████████████████████████████████| 54 kB 5.2 MB/s             \n",
      "\u001b[?25hCollecting tzdata\n",
      "  Downloading tzdata-2021.5-py2.py3-none-any.whl (339 kB)\n",
      "     |████████████████████████████████| 339 kB 48.1 MB/s            \n",
      "\u001b[?25hBuilding wheels for collected packages: glob2\n",
      "  Building wheel for glob2 (setup.py) ... \u001b[?25ldone\n",
      "\u001b[?25h  Created wheel for glob2: filename=glob2-0.7-py2.py3-none-any.whl size=9321 sha256=24a1eea4b3041cd6ab29bf1b73c81bb428653035f8c98072ea4fcbee61043c01\n",
      "  Stored in directory: /home/jupyter/.cache/pip/wheels/d7/3c/72/5300602ba1269ffce8cff5dcf7b525fee756b57455903c37ba\n",
      "Successfully built glob2\n",
      "Installing collected packages: tzdata, rfc3986, jmespath, h11, backports.zoneinfo, pytz-deprecation-shim, httpcore, charset-normalizer, botocore, tzlocal, sortedcontainers, s3transfer, patool, ndjson, httpx, glob2, dnspython, xmltodict, voxel51-eta, universal-analytics-python3, pprintpp, plotly, motor, mongoengine, kaleido, fiftyone-db, fiftyone-brain, eventlet, Deprecated, boto3, fiftyone\n",
      "Successfully installed Deprecated-1.2.13 backports.zoneinfo-0.2.1 boto3-1.20.5 botocore-1.23.5 charset-normalizer-2.0.7 dnspython-2.1.0 eventlet-0.32.0 fiftyone-0.14.0 fiftyone-brain-0.7.1 fiftyone-db-0.3.0 glob2-0.7 h11-0.12.0 httpcore-0.13.7 httpx-0.20.0 jmespath-0.10.0 kaleido-0.2.1 mongoengine-0.20.0 motor-2.5.1 ndjson-0.3.1 patool-1.12 plotly-4.14.3 pprintpp-0.4.0 pytz-deprecation-shim-0.1.0.post0 rfc3986-1.5.0 s3transfer-0.5.0 sortedcontainers-2.4.0 tzdata-2021.5 tzlocal-4.1 universal-analytics-python3-1.1.1 voxel51-eta-0.5.3 xmltodict-0.12.0\n"
     ]
    }
   ],
   "source": [
    "!pip install fiftyone"
   ]
  },
  {
   "cell_type": "code",
   "execution_count": null,
   "id": "d1087db9-cbbb-445c-8bb0-16f73bcc3828",
   "metadata": {},
   "outputs": [
    {
     "name": "stdout",
     "output_type": "stream",
     "text": [
      "Downloading split 'validation' to '/home/jupyter/fiftyone/coco-2017/validation' if necessary\n",
      "Found annotations at '/home/jupyter/fiftyone/coco-2017/raw/instances_val2017.json'\n",
      "951 images found; downloading the remaining 65\n",
      " 100% |████████████████████| 65/65 [7.1s elapsed, 0s remaining, 9.2 images/s]       \n",
      "Writing annotations for 1016 downloaded samples to '/home/jupyter/fiftyone/coco-2017/validation/labels.json'\n",
      "Downloading split 'train' to '/home/jupyter/fiftyone/coco-2017/train' if necessary\n",
      "Found annotations at '/home/jupyter/fiftyone/coco-2017/raw/instances_train2017.json'\n",
      "6031 images found; downloading the remaining 17958\n",
      "  11% |█-------------|  1973/17958 [3.3m elapsed, 26.6m remaining, 9.9 images/s]    "
     ]
    }
   ],
   "source": [
    "import fiftyone.zoo as foz\n",
    "\n",
    "#\n",
    "# Only the required images will be downloaded (if necessary).\n",
    "# By default, only detections are loaded\n",
    "#\n",
    "\n",
    "dataset = foz.load_zoo_dataset(\n",
    "    \"coco-2017\",\n",
    "    splits=[\"validation\",\"train\"],\n",
    "    classes=[\"bird\", \"cat\",\"dog\", \"horse\", \"sheep\", \"cow\", \"elephant\", \"bear\", \"zebra\", \"giraffe\"],\n",
    "    # [\"elephant\", \"bear\", \"horse\"],\n",
    "    label_types=[\"segmentations\"],\n",
    "    # max_samples=50,\n",
    ")"
   ]
  },
  {
   "cell_type": "code",
   "execution_count": 9,
   "id": "484eea6a-c432-4476-9292-faecb87a2842",
   "metadata": {},
   "outputs": [
    {
     "name": "stdout",
     "output_type": "stream",
     "text": [
      "\n"
     ]
    }
   ],
   "source": []
  },
  {
   "cell_type": "code",
   "execution_count": 10,
   "id": "8a2971cd-0343-4c2b-ac1d-104799f52299",
   "metadata": {},
   "outputs": [
    {
     "name": "stdout",
     "output_type": "stream",
     "text": [
      "Traceback (most recent call last):\n",
      "  File \"create_coco_tf_record.py\", line 48, in <module>\n",
      "    from object_detection.dataset_tools import tf_record_creation_util\n",
      "ModuleNotFoundError: No module named 'object_detection'\n"
     ]
    }
   ],
   "source": [
    "!cd /home/jupyter/models_tf/research/object_detection/dataset_tools && python create_coco_tf_record.py --logtostderr --image_dir=/home/jupyter/fiftyone/coco-2017/train/data --object_annotations_file=/home/jupyter/fiftyone/coco-2017/train/labels.json --output_file_prefix=/home/jupyter/tf_train_log/test --num_shards=100"
   ]
  },
  {
   "cell_type": "code",
   "execution_count": 37,
   "id": "18fd88df-799c-4b9f-9577-bcd8f6823643",
   "metadata": {},
   "outputs": [
    {
     "name": "stdout",
     "output_type": "stream",
     "text": [
      "[{'supercategory': 'animal', 'id': 16, 'name': 'bird'}, {'supercategory': 'animal', 'id': 17, 'name': 'cat'}, {'supercategory': 'animal', 'id': 18, 'name': 'dog'}, {'supercategory': 'animal', 'id': 19, 'name': 'horse'}, {'supercategory': 'animal', 'id': 20, 'name': 'sheep'}, {'supercategory': 'animal', 'id': 21, 'name': 'cow'}, {'supercategory': 'animal', 'id': 22, 'name': 'elephant'}, {'supercategory': 'animal', 'id': 23, 'name': 'bear'}, {'supercategory': 'animal', 'id': 24, 'name': 'zebra'}, {'supercategory': 'animal', 'id': 25, 'name': 'giraffe'}]\n"
     ]
    }
   ],
   "source": [
    "import json\n",
    "\n",
    "category_ids = [19,22,23]\n",
    "category_ids = [16,17,18,19,20,21,22,23,24,25]\n",
    "\n",
    "category_id_mapping = {}\n",
    "for i, cid in enumerate(category_ids):\n",
    "    category_id_mapping[cid] = i\n",
    "    \n",
    "with open('/home/jupyter/fiftyone/coco-2017/train/labels.json') as f:\n",
    "  data = json.load(f)\n",
    "  categories = data['categories']\n",
    "  categories = list(filter(lambda cat : cat['id'] in category_ids, categories))\n",
    "  print(categories)\n",
    "    \n",
    "  annotations = data['annotations']\n",
    "  annotations = list(filter(lambda an : an['category_id'] in category_ids, annotations))\n",
    "  for an in annotations:\n",
    "    cid = an['category_id']\n",
    "    an['category_id'] = category_id_mapping[cid]\n",
    "    \n",
    "  for cat in categories:\n",
    "    cid = cat['id']\n",
    "    cat['id'] = category_id_mapping[cid]\n",
    "    \n",
    "  data['annotations'] = annotations\n",
    "  data['categories'] = categories\n",
    "  \n",
    "  with open('/home/jupyter/fiftyone/coco-2017/train/labels_p.json', 'w') as fw:\n",
    "    json.dump(data, fw)\n",
    "        "
   ]
  },
  {
   "cell_type": "code",
   "execution_count": null,
   "id": "393ddf7d-91ef-4bee-8c6e-8942a492a3c3",
   "metadata": {},
   "outputs": [],
   "source": []
  }
 ],
 "metadata": {
  "environment": {
   "kernel": "python3",
   "name": "tf2-gpu.2-6.m84",
   "type": "gcloud",
   "uri": "gcr.io/deeplearning-platform-release/tf2-gpu.2-6:m84"
  },
  "kernelspec": {
   "display_name": "Python 3",
   "language": "python",
   "name": "python3"
  },
  "language_info": {
   "codemirror_mode": {
    "name": "ipython",
    "version": 3
   },
   "file_extension": ".py",
   "mimetype": "text/x-python",
   "name": "python",
   "nbconvert_exporter": "python",
   "pygments_lexer": "ipython3",
   "version": "3.7.12"
  }
 },
 "nbformat": 4,
 "nbformat_minor": 5
}
