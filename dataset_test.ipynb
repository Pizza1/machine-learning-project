{
 "cells": [
  {
   "cell_type": "code",
   "execution_count": 4,
   "id": "d1ca6132-1c39-473b-9a52-e0ed2484e29f",
   "metadata": {},
   "outputs": [
    {
     "name": "stdout",
     "output_type": "stream",
     "text": [
      "\u001b[33mWARNING: Ignoring invalid distribution -bsl-py (/opt/conda/lib/python3.7/site-packages)\u001b[0m\n",
      "\u001b[33mWARNING: Ignoring invalid distribution -bsl-py (/opt/conda/lib/python3.7/site-packages)\u001b[0m\n",
      "Collecting fiftyone\n",
      "  Using cached fiftyone-0.14.0-py3-none-any.whl (1.2 MB)\n",
      "Requirement already satisfied: pymongo<4,>=3.11 in /opt/conda/lib/python3.7/site-packages (from fiftyone) (3.12.1)\n",
      "Requirement already satisfied: opencv-python-headless in ./.local/lib/python3.7/site-packages (from fiftyone) (4.5.4.58)\n",
      "Collecting mongoengine==0.20.0\n",
      "  Using cached mongoengine-0.20.0-py3-none-any.whl (106 kB)\n",
      "Requirement already satisfied: Jinja2 in /opt/conda/lib/python3.7/site-packages (from fiftyone) (2.11.3)\n",
      "Requirement already satisfied: numpy in /opt/conda/lib/python3.7/site-packages (from fiftyone) (1.19.5)\n",
      "Requirement already satisfied: argcomplete in /opt/conda/lib/python3.7/site-packages (from fiftyone) (1.12.3)\n",
      "Requirement already satisfied: scikit-image in /opt/conda/lib/python3.7/site-packages (from fiftyone) (0.18.3)\n",
      "Collecting xmltodict\n",
      "  Using cached xmltodict-0.12.0-py2.py3-none-any.whl (9.2 kB)\n",
      "Requirement already satisfied: PyYAML in ./.local/lib/python3.7/site-packages (from fiftyone) (5.4.1)\n",
      "Collecting kaleido\n",
      "  Using cached kaleido-0.2.1-py2.py3-none-manylinux1_x86_64.whl (79.9 MB)\n",
      "Collecting Deprecated\n",
      "  Using cached Deprecated-1.2.13-py2.py3-none-any.whl (9.6 kB)\n",
      "Collecting fiftyone-db<0.4,>=0.3\n",
      "  Using cached fiftyone_db-0.3.0-py3-none-manylinux1_x86_64.whl (29.2 MB)\n",
      "Requirement already satisfied: retrying in /opt/conda/lib/python3.7/site-packages (from fiftyone) (1.3.3)\n",
      "Collecting universal-analytics-python3<2,>=1.0.1\n",
      "  Using cached universal_analytics_python3-1.1.1-py3-none-any.whl (10 kB)\n",
      "Collecting eventlet\n",
      "  Using cached eventlet-0.32.0-py2.py3-none-any.whl (225 kB)\n",
      "Requirement already satisfied: future in /opt/conda/lib/python3.7/site-packages (from fiftyone) (0.18.2)\n",
      "Requirement already satisfied: matplotlib in /opt/conda/lib/python3.7/site-packages (from fiftyone) (3.4.3)\n",
      "Requirement already satisfied: packaging in /opt/conda/lib/python3.7/site-packages (from fiftyone) (21.0)\n",
      "Requirement already satisfied: psutil in /opt/conda/lib/python3.7/site-packages (from fiftyone) (5.8.0)\n",
      "Requirement already satisfied: scikit-learn in /opt/conda/lib/python3.7/site-packages (from fiftyone) (1.0.1)\n",
      "Requirement already satisfied: pandas in /opt/conda/lib/python3.7/site-packages (from fiftyone) (1.3.4)\n",
      "Collecting pprintpp\n",
      "  Using cached pprintpp-0.4.0-py2.py3-none-any.whl (16 kB)\n",
      "Requirement already satisfied: Pillow>=6.2 in /opt/conda/lib/python3.7/site-packages (from fiftyone) (8.3.2)\n",
      "Requirement already satisfied: pytz in /opt/conda/lib/python3.7/site-packages (from fiftyone) (2021.3)\n",
      "Collecting plotly<5,>=4.14\n",
      "  Using cached plotly-4.14.3-py2.py3-none-any.whl (13.2 MB)\n",
      "Collecting fiftyone-brain<0.8,>=0.7\n",
      "  Using cached fiftyone_brain-0.7.1-cp37-cp37m-manylinux1_x86_64.whl (631 kB)\n",
      "Collecting voxel51-eta<0.6,>=0.5.3\n",
      "  Using cached voxel51_eta-0.5.3-py2.py3-none-any.whl (557 kB)\n",
      "Requirement already satisfied: tabulate in ./.local/lib/python3.7/site-packages (from fiftyone) (0.8.9)\n",
      "Requirement already satisfied: setuptools in /opt/conda/lib/python3.7/site-packages (from fiftyone) (58.5.2)\n",
      "Collecting motor<3,>=2.3\n",
      "  Using cached motor-2.5.1-py3-none-any.whl (55 kB)\n",
      "Requirement already satisfied: tornado<7,>=5.1.1 in /opt/conda/lib/python3.7/site-packages (from fiftyone) (6.1)\n",
      "Collecting boto3\n",
      "  Using cached boto3-1.20.2-py3-none-any.whl (131 kB)\n",
      "Requirement already satisfied: scipy>=1.2.0 in /opt/conda/lib/python3.7/site-packages (from fiftyone-brain<0.8,>=0.7->fiftyone) (1.7.1)\n",
      "Requirement already satisfied: six in /opt/conda/lib/python3.7/site-packages (from plotly<5,>=4.14->fiftyone) (1.15.0)\n",
      "Collecting httpx>=0.10.0\n",
      "  Using cached httpx-0.20.0-py3-none-any.whl (82 kB)\n",
      "Collecting patool\n",
      "  Using cached patool-1.12-py2.py3-none-any.whl (77 kB)\n",
      "Collecting tzlocal\n",
      "  Using cached tzlocal-4.1-py3-none-any.whl (19 kB)\n",
      "Collecting sortedcontainers\n",
      "  Using cached sortedcontainers-2.4.0-py2.py3-none-any.whl (29 kB)\n",
      "Requirement already satisfied: dill in /opt/conda/lib/python3.7/site-packages (from voxel51-eta<0.6,>=0.5.3->fiftyone) (0.3.0)\n",
      "Collecting glob2\n",
      "  Using cached glob2-0.7-py2.py3-none-any.whl\n",
      "Requirement already satisfied: requests in /opt/conda/lib/python3.7/site-packages (from voxel51-eta<0.6,>=0.5.3->fiftyone) (2.25.1)\n",
      "Requirement already satisfied: importlib-metadata in /opt/conda/lib/python3.7/site-packages (from voxel51-eta<0.6,>=0.5.3->fiftyone) (4.8.1)\n",
      "Requirement already satisfied: python-dateutil in /opt/conda/lib/python3.7/site-packages (from voxel51-eta<0.6,>=0.5.3->fiftyone) (2.8.2)\n",
      "Collecting ndjson\n",
      "  Using cached ndjson-0.3.1-py2.py3-none-any.whl (5.3 kB)\n",
      "Requirement already satisfied: jmespath<1.0.0,>=0.7.1 in /opt/conda/lib/python3.7/site-packages (from boto3->fiftyone) (0.10.0)\n",
      "Collecting botocore<1.24.0,>=1.23.2\n",
      "  Using cached botocore-1.23.2-py3-none-any.whl (8.1 MB)\n",
      "Collecting s3transfer<0.6.0,>=0.5.0\n",
      "  Using cached s3transfer-0.5.0-py3-none-any.whl (79 kB)\n",
      "Requirement already satisfied: wrapt<2,>=1.10 in /opt/conda/lib/python3.7/site-packages (from Deprecated->fiftyone) (1.13.3)\n",
      "Collecting dnspython>=1.15.0\n",
      "  Using cached dnspython-2.1.0-py3-none-any.whl (241 kB)\n",
      "Requirement already satisfied: greenlet>=0.3 in /opt/conda/lib/python3.7/site-packages (from eventlet->fiftyone) (1.1.2)\n",
      "Requirement already satisfied: MarkupSafe>=0.23 in /opt/conda/lib/python3.7/site-packages (from Jinja2->fiftyone) (1.1.1)\n",
      "Requirement already satisfied: pyparsing>=2.2.1 in /opt/conda/lib/python3.7/site-packages (from matplotlib->fiftyone) (3.0.4)\n",
      "Requirement already satisfied: cycler>=0.10 in /opt/conda/lib/python3.7/site-packages (from matplotlib->fiftyone) (0.11.0)\n",
      "Requirement already satisfied: kiwisolver>=1.0.1 in /opt/conda/lib/python3.7/site-packages (from matplotlib->fiftyone) (1.3.2)\n",
      "Requirement already satisfied: networkx>=2.0 in /opt/conda/lib/python3.7/site-packages (from scikit-image->fiftyone) (2.6.3)\n",
      "Requirement already satisfied: tifffile>=2019.7.26 in /opt/conda/lib/python3.7/site-packages (from scikit-image->fiftyone) (2021.11.2)\n",
      "Requirement already satisfied: imageio>=2.3.0 in /opt/conda/lib/python3.7/site-packages (from scikit-image->fiftyone) (2.10.1)\n",
      "Requirement already satisfied: PyWavelets>=1.1.1 in /opt/conda/lib/python3.7/site-packages (from scikit-image->fiftyone) (1.1.1)\n",
      "Requirement already satisfied: joblib>=0.11 in /opt/conda/lib/python3.7/site-packages (from scikit-learn->fiftyone) (1.1.0)\n",
      "Requirement already satisfied: threadpoolctl>=2.0.0 in /opt/conda/lib/python3.7/site-packages (from scikit-learn->fiftyone) (3.0.0)\n",
      "Requirement already satisfied: urllib3<1.27,>=1.25.4 in /opt/conda/lib/python3.7/site-packages (from botocore<1.24.0,>=1.23.2->boto3->fiftyone) (1.26.7)\n",
      "Requirement already satisfied: sniffio in /opt/conda/lib/python3.7/site-packages (from httpx>=0.10.0->universal-analytics-python3<2,>=1.0.1->fiftyone) (1.2.0)\n",
      "Requirement already satisfied: charset-normalizer in /opt/conda/lib/python3.7/site-packages (from httpx>=0.10.0->universal-analytics-python3<2,>=1.0.1->fiftyone) (2.0.7)\n",
      "Requirement already satisfied: certifi in /opt/conda/lib/python3.7/site-packages (from httpx>=0.10.0->universal-analytics-python3<2,>=1.0.1->fiftyone) (2021.10.8)\n",
      "Requirement already satisfied: httpcore<0.14.0,>=0.13.3 in /opt/conda/lib/python3.7/site-packages (from httpx>=0.10.0->universal-analytics-python3<2,>=1.0.1->fiftyone) (0.13.7)\n",
      "Requirement already satisfied: rfc3986[idna2008]<2,>=1.3 in /opt/conda/lib/python3.7/site-packages (from httpx>=0.10.0->universal-analytics-python3<2,>=1.0.1->fiftyone) (1.5.0)\n",
      "Requirement already satisfied: typing-extensions>=3.6.4 in /opt/conda/lib/python3.7/site-packages (from importlib-metadata->voxel51-eta<0.6,>=0.5.3->fiftyone) (3.7.4.3)\n",
      "Requirement already satisfied: zipp>=0.5 in /opt/conda/lib/python3.7/site-packages (from importlib-metadata->voxel51-eta<0.6,>=0.5.3->fiftyone) (3.6.0)\n",
      "Requirement already satisfied: idna<3,>=2.5 in /opt/conda/lib/python3.7/site-packages (from requests->voxel51-eta<0.6,>=0.5.3->fiftyone) (2.10)\n",
      "Requirement already satisfied: chardet<5,>=3.0.2 in /opt/conda/lib/python3.7/site-packages (from requests->voxel51-eta<0.6,>=0.5.3->fiftyone) (4.0.0)\n",
      "Requirement already satisfied: backports.zoneinfo in /opt/conda/lib/python3.7/site-packages (from tzlocal->voxel51-eta<0.6,>=0.5.3->fiftyone) (0.2.1)\n",
      "Requirement already satisfied: pytz-deprecation-shim in /opt/conda/lib/python3.7/site-packages (from tzlocal->voxel51-eta<0.6,>=0.5.3->fiftyone) (0.1.0.post0)\n",
      "Requirement already satisfied: anyio==3.* in /opt/conda/lib/python3.7/site-packages (from httpcore<0.14.0,>=0.13.3->httpx>=0.10.0->universal-analytics-python3<2,>=1.0.1->fiftyone) (3.3.4)\n",
      "Requirement already satisfied: h11<0.13,>=0.11 in /opt/conda/lib/python3.7/site-packages (from httpcore<0.14.0,>=0.13.3->httpx>=0.10.0->universal-analytics-python3<2,>=1.0.1->fiftyone) (0.12.0)\n",
      "Requirement already satisfied: tzdata in /opt/conda/lib/python3.7/site-packages (from pytz-deprecation-shim->tzlocal->voxel51-eta<0.6,>=0.5.3->fiftyone) (2021.5)\n",
      "\u001b[33mWARNING: Ignoring invalid distribution -bsl-py (/opt/conda/lib/python3.7/site-packages)\u001b[0m\n",
      "Installing collected packages: botocore, tzlocal, sortedcontainers, s3transfer, patool, ndjson, httpx, glob2, dnspython, xmltodict, voxel51-eta, universal-analytics-python3, pprintpp, plotly, motor, mongoengine, kaleido, fiftyone-db, fiftyone-brain, eventlet, Deprecated, boto3, fiftyone\n",
      "\u001b[33mWARNING: Ignoring invalid distribution -bsl-py (/opt/conda/lib/python3.7/site-packages)\u001b[0m\n",
      "\u001b[33mWARNING: Ignoring invalid distribution -bsl-py (/opt/conda/lib/python3.7/site-packages)\u001b[0m\n",
      "\u001b[33mWARNING: Ignoring invalid distribution -bsl-py (/opt/conda/lib/python3.7/site-packages)\u001b[0m\n",
      "\u001b[33mWARNING: Ignoring invalid distribution -bsl-py (/opt/conda/lib/python3.7/site-packages)\u001b[0m\n",
      "\u001b[33mWARNING: Ignoring invalid distribution -bsl-py (/opt/conda/lib/python3.7/site-packages)\u001b[0m\n",
      "\u001b[33mWARNING: Ignoring invalid distribution -bsl-py (/opt/conda/lib/python3.7/site-packages)\u001b[0m\n",
      "\u001b[33mWARNING: Ignoring invalid distribution -bsl-py (/opt/conda/lib/python3.7/site-packages)\u001b[0m\n",
      "\u001b[33mWARNING: Ignoring invalid distribution -bsl-py (/opt/conda/lib/python3.7/site-packages)\u001b[0m\n",
      "\u001b[33mWARNING: Ignoring invalid distribution -bsl-py (/opt/conda/lib/python3.7/site-packages)\u001b[0m\n",
      "\u001b[33mWARNING: Ignoring invalid distribution -bsl-py (/opt/conda/lib/python3.7/site-packages)\u001b[0m\n",
      "\u001b[33mWARNING: Ignoring invalid distribution -bsl-py (/opt/conda/lib/python3.7/site-packages)\u001b[0m\n",
      "\u001b[33mWARNING: Ignoring invalid distribution -bsl-py (/opt/conda/lib/python3.7/site-packages)\u001b[0m\n",
      "\u001b[33mWARNING: Ignoring invalid distribution -bsl-py (/opt/conda/lib/python3.7/site-packages)\u001b[0m\n",
      "\u001b[33mWARNING: Ignoring invalid distribution -bsl-py (/opt/conda/lib/python3.7/site-packages)\u001b[0m\n",
      "\u001b[33mWARNING: Ignoring invalid distribution -bsl-py (/opt/conda/lib/python3.7/site-packages)\u001b[0m\n",
      "\u001b[33mWARNING: Ignoring invalid distribution -bsl-py (/opt/conda/lib/python3.7/site-packages)\u001b[0m\n",
      "\u001b[33mWARNING: Ignoring invalid distribution -bsl-py (/opt/conda/lib/python3.7/site-packages)\u001b[0m\n",
      "\u001b[33mWARNING: Ignoring invalid distribution -bsl-py (/opt/conda/lib/python3.7/site-packages)\u001b[0m\n",
      "\u001b[33mWARNING: Ignoring invalid distribution -bsl-py (/opt/conda/lib/python3.7/site-packages)\u001b[0m\n",
      "\u001b[33mWARNING: Ignoring invalid distribution -bsl-py (/opt/conda/lib/python3.7/site-packages)\u001b[0m\n",
      "\u001b[33mWARNING: Ignoring invalid distribution -bsl-py (/opt/conda/lib/python3.7/site-packages)\u001b[0m\n",
      "\u001b[33mWARNING: Ignoring invalid distribution -bsl-py (/opt/conda/lib/python3.7/site-packages)\u001b[0m\n",
      "\u001b[33mWARNING: Ignoring invalid distribution -bsl-py (/opt/conda/lib/python3.7/site-packages)\u001b[0m\n",
      "Successfully installed Deprecated-1.2.13 boto3-1.20.2 botocore-1.23.2 dnspython-2.1.0 eventlet-0.32.0 fiftyone-0.14.0 fiftyone-brain-0.7.1 fiftyone-db-0.3.0 glob2-0.7 httpx-0.20.0 kaleido-0.2.1 mongoengine-0.20.0 motor-2.5.1 ndjson-0.3.1 patool-1.12 plotly-4.14.3 pprintpp-0.4.0 s3transfer-0.5.0 sortedcontainers-2.4.0 tzlocal-4.1 universal-analytics-python3-1.1.1 voxel51-eta-0.5.3 xmltodict-0.12.0\n",
      "\u001b[33mWARNING: Ignoring invalid distribution -bsl-py (/opt/conda/lib/python3.7/site-packages)\u001b[0m\n",
      "\u001b[33mWARNING: Ignoring invalid distribution -bsl-py (/opt/conda/lib/python3.7/site-packages)\u001b[0m\n"
     ]
    }
   ],
   "source": [
    "!pip install fiftyone\n"
   ]
  },
  {
   "cell_type": "code",
   "execution_count": 55,
   "id": "7b8a3773-7a52-4e6a-8e15-2efbd05b86da",
   "metadata": {},
   "outputs": [
    {
     "name": "stdout",
     "output_type": "stream",
     "text": [
      "Downloading split 'train' to '/home/jupyter/fiftyone/coco-2017/train' if necessary\n",
      "Found annotations at '/home/jupyter/fiftyone/coco-2017/raw/instances_train2017.json'\n",
      "Sufficient images already downloaded\n",
      "Existing download of split 'train' is sufficient\n",
      "Loading existing dataset 'coco-2017-train'. To reload from disk, either delete the existing dataset or provide a custom `dataset_name` to use\n"
     ]
    }
   ],
   "source": [
    "import fiftyone.zoo as foz\n",
    "\n",
    "# To download the COCO dataset for only the \"person\" and \"car\" classes\n",
    "dataset = foz.load_zoo_dataset(\n",
    "    \"coco-2017\",\n",
    "    split=\"train\",\n",
    "    label_types=[\"segmentations\"],\n",
    "    classes=[\"elephant\", \"zebra\", \"bear\"],\n",
    ")"
   ]
  },
  {
   "cell_type": "code",
   "execution_count": 54,
   "id": "c0652d23-3a25-43bf-8bc5-a34056781df3",
   "metadata": {},
   "outputs": [
    {
     "name": "stdout",
     "output_type": "stream",
     "text": [
      "Directory 'coco/datasets/d1' already exists; export will be merged with existing files\n",
      "Found multiple fields ['detections', 'segmentations'] with compatible type <class 'fiftyone.core.labels.Detections'>; exporting 'detections'\n",
      " 100% |███████████████| 4978/4978 [33.8s elapsed, 0s remaining, 150.0 samples/s]      \n"
     ]
    }
   ],
   "source": [
    "import fiftyone as fo\n",
    "\n",
    "\n",
    "# The directory to which to write the exported dataset\n",
    "export_dir = \"coco/datasets/d1\"\n",
    "\n",
    "# The name of the sample field containing the label that you wish to export\n",
    "# Used when exporting labeled datasets (e.g., classification or detection)\n",
    "label_field = \"ground_truth\"  # for example\n",
    "\n",
    "# The type of dataset to export\n",
    "# Any subclass of `fiftyone.types.Dataset` is supported\n",
    "dataset_type = fo.types.COCODetectionDataset  # for example\n",
    "\n",
    "# Export the dataset!\n",
    "dataset.export(\n",
    "    export_dir=export_dir,\n",
    "    dataset_type=dataset_type,\n",
    "    extra_attrs=True\n",
    "    # label_field=label_field,\n",
    ")"
   ]
  },
  {
   "cell_type": "code",
   "execution_count": null,
   "id": "29daf27a-e91d-424a-bd57-1303dfdc759b",
   "metadata": {},
   "outputs": [],
   "source": [
    "for x in dataset.take(5):\n",
    "    print(x)"
   ]
  },
  {
   "cell_type": "code",
   "execution_count": 36,
   "id": "b6351a43-81ca-49fa-8257-7261be3ce680",
   "metadata": {},
   "outputs": [
    {
     "name": "stdout",
     "output_type": "stream",
     "text": [
      "Copying file://labels.json [Content-Type=application/json]...\n",
      "/ [1 files][  3.4 MiB/  3.4 MiB]                                                \n",
      "Operation completed over 1 objects/3.4 MiB.                                      \n"
     ]
    }
   ],
   "source": [
    "!gsutil cp labels.json gs://machine-learning-331715-datasets/coco/ebz/labels.json"
   ]
  },
  {
   "cell_type": "code",
   "execution_count": 72,
   "id": "be1e0f5c-631c-46a0-b8b2-ae6f9c35a6dd",
   "metadata": {},
   "outputs": [
    {
     "name": "stdout",
     "output_type": "stream",
     "text": [
      "Copying file://data.tar.gz [Content-Type=application/x-tar]...\n",
      "==> NOTE: You are uploading one or more large file(s), which would run          \n",
      "significantly faster if you enable parallel composite uploads. This\n",
      "feature can be enabled by editing the\n",
      "\"parallel_composite_upload_threshold\" value in your .boto\n",
      "configuration file. However, note that if you do this large files will\n",
      "be uploaded as `composite objects\n",
      "<https://cloud.google.com/storage/docs/composite-objects>`_,which\n",
      "means that any user who downloads such objects will need to have a\n",
      "compiled crcmod installed (see \"gsutil help crcmod\"). This is because\n",
      "without a compiled crcmod, computing checksums on composite objects is\n",
      "so slow that gsutil disables downloads of composite objects.\n",
      "\n",
      "\\ [1 files][ 1015 MiB/ 1015 MiB]   87.8 MiB/s                                   \n",
      "Operation completed over 1 objects/1015.7 MiB.                                   \n"
     ]
    }
   ],
   "source": [
    "!tar czf data.tar.gz fiftyone/coco-2017/train\n",
    "!gsutil cp data.tar.gz gs://machine-learning-331715-datasets/coco/ebz/data"
   ]
  },
  {
   "cell_type": "code",
   "execution_count": 41,
   "id": "924d6081-dd02-40d8-a97f-c9e7241f98b2",
   "metadata": {},
   "outputs": [],
   "source": [
    "!sudo chmod -R 777 coco"
   ]
  },
  {
   "cell_type": "code",
   "execution_count": 42,
   "id": "3f1786f7-b810-4d7b-a0dc-99f82cd7f5a4",
   "metadata": {},
   "outputs": [],
   "source": [
    "!sudo chmod -R 777 coco/datasets"
   ]
  },
  {
   "cell_type": "code",
   "execution_count": 63,
   "id": "8e1855df-6a5a-493a-baa0-4ef26994f36b",
   "metadata": {},
   "outputs": [
    {
     "data": {
      "text/plain": [
       "Name:        coco-2017-train\n",
       "Media type:  image\n",
       "Num samples: 4978\n",
       "Persistent:  False\n",
       "Tags:        ['train']\n",
       "Sample fields:\n",
       "    id:            fiftyone.core.fields.ObjectIdField\n",
       "    filepath:      fiftyone.core.fields.StringField\n",
       "    tags:          fiftyone.core.fields.ListField(fiftyone.core.fields.StringField)\n",
       "    metadata:      fiftyone.core.fields.EmbeddedDocumentField(fiftyone.core.metadata.Metadata)\n",
       "    detections:    fiftyone.core.fields.EmbeddedDocumentField(fiftyone.core.labels.Detections)\n",
       "    segmentations: fiftyone.core.fields.EmbeddedDocumentField(fiftyone.core.labels.Detections)"
      ]
     },
     "execution_count": 64,
     "metadata": {},
     "output_type": "execute_result"
    }
   ],
   "source": [
    "dataset\n"
   ]
  },
  {
   "cell_type": "code",
   "execution_count": null,
   "id": "44ba09e3-eefd-48c2-a75f-74571347bec7",
   "metadata": {},
   "outputs": [],
   "source": []
  }
 ],
 "metadata": {
  "environment": {
   "kernel": "python3",
   "name": "tf2-gpu.2-1.m84",
   "type": "gcloud",
   "uri": "gcr.io/deeplearning-platform-release/tf2-gpu.2-1:m84"
  },
  "kernelspec": {
   "display_name": "Python 3",
   "language": "python",
   "name": "python3"
  },
  "language_info": {
   "codemirror_mode": {
    "name": "ipython",
    "version": 3
   },
   "file_extension": ".py",
   "mimetype": "text/x-python",
   "name": "python",
   "nbconvert_exporter": "python",
   "pygments_lexer": "ipython3",
   "version": "3.7.12"
  }
 },
 "nbformat": 4,
 "nbformat_minor": 5
}
